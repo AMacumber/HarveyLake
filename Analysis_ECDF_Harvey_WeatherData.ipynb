{
 "cells": [
  {
   "cell_type": "markdown",
   "metadata": {},
   "source": [
    "# ECDF of New Brunswick Weather Stations"
   ]
  },
  {
   "cell_type": "code",
   "execution_count": 13,
   "metadata": {},
   "outputs": [],
   "source": [
    "import pandas as pd\n",
    "import matplotlib.pyplot as plt\n",
    "import numpy as np\n",
    "\n",
    "filename_Fredericton = 'Data/Data_Weather_FrederictonA_1952_2010.csv'\n",
    "filename_Harvey = 'Data/Data_Weather_Harvey_1921_2003.csv'\n",
    "\n",
    "data_Fredericton = pd.read_csv(filename_Fredericton)\n",
    "\n",
    "data_Harvey = pd.read_csv(filename_Harvey)"
   ]
  },
  {
   "cell_type": "code",
   "execution_count": 8,
   "metadata": {},
   "outputs": [
    {
     "data": {
      "text/plain": [
       "Index(['Longitude (x)', 'Latitude (y)', 'Station Name', 'Climate ID',\n",
       "       'Date/Time', 'Year', 'Month', 'Day', 'Data Quality', 'Max Temp (°C)',\n",
       "       'Max Temp Flag', 'Min Temp (°C)', 'Min Temp Flag', 'Mean Temp (°C)',\n",
       "       'Mean Temp Flag', 'Heat Deg Days (°C)', 'Heat Deg Days Flag',\n",
       "       'Cool Deg Days (°C)', 'Cool Deg Days Flag', 'Total Rain (mm)',\n",
       "       'Total Rain Flag', 'Total Snow (cm)', 'Total Snow Flag',\n",
       "       'Total Precip (mm)', 'Total Precip Flag', 'Snow on Grnd (cm)',\n",
       "       'Snow on Grnd Flag', 'Dir of Max Gust (10s deg)',\n",
       "       'Dir of Max Gust Flag', 'Spd of Max Gust (km/h)',\n",
       "       'Spd of Max Gust Flag'],\n",
       "      dtype='object')"
      ]
     },
     "execution_count": 8,
     "metadata": {},
     "output_type": "execute_result"
    }
   ],
   "source": [
    "data_Fredericton.columns"
   ]
  },
  {
   "cell_type": "code",
   "execution_count": 28,
   "metadata": {},
   "outputs": [
    {
     "data": {
      "text/plain": [
       "'The Fredericton data spans 1952 to 2009 and the Harvey data spans 1921 to 2003.'"
      ]
     },
     "execution_count": 28,
     "metadata": {},
     "output_type": "execute_result"
    }
   ],
   "source": [
    "min_Fred_Year = min(data_Fredericton['Year'])\n",
    "max_Fred_Year = max(data_Fredericton['Year'])\n",
    "\n",
    "min_Har_Year = min(data_Harvey['Year'])\n",
    "max_Har_Year = max(data_Harvey['Year'])\n",
    "\n",
    "f'The Fredericton data spans {min_Fred_Year} to {max_Fred_Year} and the Harvey data spans {min_Har_Year} to {max_Har_Year}.'"
   ]
  },
  {
   "cell_type": "code",
   "execution_count": 34,
   "metadata": {},
   "outputs": [
    {
     "data": {
      "text/html": [
       "<div>\n",
       "<style scoped>\n",
       "    .dataframe tbody tr th:only-of-type {\n",
       "        vertical-align: middle;\n",
       "    }\n",
       "\n",
       "    .dataframe tbody tr th {\n",
       "        vertical-align: top;\n",
       "    }\n",
       "\n",
       "    .dataframe thead th {\n",
       "        text-align: right;\n",
       "    }\n",
       "</style>\n",
       "<table border=\"1\" class=\"dataframe\">\n",
       "  <thead>\n",
       "    <tr style=\"text-align: right;\">\n",
       "      <th></th>\n",
       "      <th>Longitude (x)</th>\n",
       "      <th>Latitude (y)</th>\n",
       "      <th>Station Name</th>\n",
       "      <th>Climate ID</th>\n",
       "      <th>Date/Time</th>\n",
       "      <th>Year</th>\n",
       "      <th>Month</th>\n",
       "      <th>Day</th>\n",
       "      <th>Data Quality</th>\n",
       "      <th>Max Temp (°C)</th>\n",
       "      <th>...</th>\n",
       "      <th>Total Snow (cm)</th>\n",
       "      <th>Total Snow Flag</th>\n",
       "      <th>Total Precip (mm)</th>\n",
       "      <th>Total Precip Flag</th>\n",
       "      <th>Snow on Grnd (cm)</th>\n",
       "      <th>Snow on Grnd Flag</th>\n",
       "      <th>Dir of Max Gust (10s deg)</th>\n",
       "      <th>Dir of Max Gust Flag</th>\n",
       "      <th>Spd of Max Gust (km/h)</th>\n",
       "      <th>Spd of Max Gust Flag</th>\n",
       "    </tr>\n",
       "  </thead>\n",
       "  <tbody>\n",
       "    <tr>\n",
       "      <th>1096</th>\n",
       "      <td>-66.53</td>\n",
       "      <td>45.87</td>\n",
       "      <td>FREDERICTON A</td>\n",
       "      <td>8101500</td>\n",
       "      <td>1955-01-01</td>\n",
       "      <td>1955</td>\n",
       "      <td>1</td>\n",
       "      <td>1</td>\n",
       "      <td>NaN</td>\n",
       "      <td>-3.9</td>\n",
       "      <td>...</td>\n",
       "      <td>0.0</td>\n",
       "      <td>T</td>\n",
       "      <td>0.0</td>\n",
       "      <td>T</td>\n",
       "      <td>30.0</td>\n",
       "      <td>NaN</td>\n",
       "      <td>NaN</td>\n",
       "      <td>NaN</td>\n",
       "      <td>NaN</td>\n",
       "      <td>NaN</td>\n",
       "    </tr>\n",
       "    <tr>\n",
       "      <th>1097</th>\n",
       "      <td>-66.53</td>\n",
       "      <td>45.87</td>\n",
       "      <td>FREDERICTON A</td>\n",
       "      <td>8101500</td>\n",
       "      <td>1955-01-02</td>\n",
       "      <td>1955</td>\n",
       "      <td>1</td>\n",
       "      <td>2</td>\n",
       "      <td>NaN</td>\n",
       "      <td>-3.9</td>\n",
       "      <td>...</td>\n",
       "      <td>11.9</td>\n",
       "      <td>NaN</td>\n",
       "      <td>11.9</td>\n",
       "      <td>NaN</td>\n",
       "      <td>30.0</td>\n",
       "      <td>NaN</td>\n",
       "      <td>NaN</td>\n",
       "      <td>NaN</td>\n",
       "      <td>NaN</td>\n",
       "      <td>NaN</td>\n",
       "    </tr>\n",
       "    <tr>\n",
       "      <th>1098</th>\n",
       "      <td>-66.53</td>\n",
       "      <td>45.87</td>\n",
       "      <td>FREDERICTON A</td>\n",
       "      <td>8101500</td>\n",
       "      <td>1955-01-03</td>\n",
       "      <td>1955</td>\n",
       "      <td>1</td>\n",
       "      <td>3</td>\n",
       "      <td>NaN</td>\n",
       "      <td>-1.7</td>\n",
       "      <td>...</td>\n",
       "      <td>0.0</td>\n",
       "      <td>T</td>\n",
       "      <td>0.0</td>\n",
       "      <td>T</td>\n",
       "      <td>41.0</td>\n",
       "      <td>NaN</td>\n",
       "      <td>NaN</td>\n",
       "      <td>NaN</td>\n",
       "      <td>NaN</td>\n",
       "      <td>NaN</td>\n",
       "    </tr>\n",
       "    <tr>\n",
       "      <th>1099</th>\n",
       "      <td>-66.53</td>\n",
       "      <td>45.87</td>\n",
       "      <td>FREDERICTON A</td>\n",
       "      <td>8101500</td>\n",
       "      <td>1955-01-04</td>\n",
       "      <td>1955</td>\n",
       "      <td>1</td>\n",
       "      <td>4</td>\n",
       "      <td>NaN</td>\n",
       "      <td>-2.8</td>\n",
       "      <td>...</td>\n",
       "      <td>1.3</td>\n",
       "      <td>NaN</td>\n",
       "      <td>1.3</td>\n",
       "      <td>NaN</td>\n",
       "      <td>41.0</td>\n",
       "      <td>NaN</td>\n",
       "      <td>NaN</td>\n",
       "      <td>NaN</td>\n",
       "      <td>NaN</td>\n",
       "      <td>NaN</td>\n",
       "    </tr>\n",
       "    <tr>\n",
       "      <th>1100</th>\n",
       "      <td>-66.53</td>\n",
       "      <td>45.87</td>\n",
       "      <td>FREDERICTON A</td>\n",
       "      <td>8101500</td>\n",
       "      <td>1955-01-05</td>\n",
       "      <td>1955</td>\n",
       "      <td>1</td>\n",
       "      <td>5</td>\n",
       "      <td>NaN</td>\n",
       "      <td>-1.7</td>\n",
       "      <td>...</td>\n",
       "      <td>0.0</td>\n",
       "      <td>NaN</td>\n",
       "      <td>0.0</td>\n",
       "      <td>NaN</td>\n",
       "      <td>41.0</td>\n",
       "      <td>NaN</td>\n",
       "      <td>NaN</td>\n",
       "      <td>NaN</td>\n",
       "      <td>NaN</td>\n",
       "      <td>NaN</td>\n",
       "    </tr>\n",
       "  </tbody>\n",
       "</table>\n",
       "<p>5 rows × 31 columns</p>\n",
       "</div>"
      ],
      "text/plain": [
       "      Longitude (x)  Latitude (y)   Station Name  Climate ID   Date/Time  \\\n",
       "1096         -66.53         45.87  FREDERICTON A     8101500  1955-01-01   \n",
       "1097         -66.53         45.87  FREDERICTON A     8101500  1955-01-02   \n",
       "1098         -66.53         45.87  FREDERICTON A     8101500  1955-01-03   \n",
       "1099         -66.53         45.87  FREDERICTON A     8101500  1955-01-04   \n",
       "1100         -66.53         45.87  FREDERICTON A     8101500  1955-01-05   \n",
       "\n",
       "      Year  Month  Day  Data Quality  Max Temp (°C)  ... Total Snow (cm)  \\\n",
       "1096  1955      1    1           NaN           -3.9  ...             0.0   \n",
       "1097  1955      1    2           NaN           -3.9  ...            11.9   \n",
       "1098  1955      1    3           NaN           -1.7  ...             0.0   \n",
       "1099  1955      1    4           NaN           -2.8  ...             1.3   \n",
       "1100  1955      1    5           NaN           -1.7  ...             0.0   \n",
       "\n",
       "      Total Snow Flag Total Precip (mm)  Total Precip Flag Snow on Grnd (cm)  \\\n",
       "1096                T               0.0                  T              30.0   \n",
       "1097              NaN              11.9                NaN              30.0   \n",
       "1098                T               0.0                  T              41.0   \n",
       "1099              NaN               1.3                NaN              41.0   \n",
       "1100              NaN               0.0                NaN              41.0   \n",
       "\n",
       "      Snow on Grnd Flag Dir of Max Gust (10s deg)  Dir of Max Gust Flag  \\\n",
       "1096                NaN                       NaN                   NaN   \n",
       "1097                NaN                       NaN                   NaN   \n",
       "1098                NaN                       NaN                   NaN   \n",
       "1099                NaN                       NaN                   NaN   \n",
       "1100                NaN                       NaN                   NaN   \n",
       "\n",
       "     Spd of Max Gust (km/h)  Spd of Max Gust Flag  \n",
       "1096                    NaN                   NaN  \n",
       "1097                    NaN                   NaN  \n",
       "1098                    NaN                   NaN  \n",
       "1099                    NaN                   NaN  \n",
       "1100                    NaN                   NaN  \n",
       "\n",
       "[5 rows x 31 columns]"
      ]
     },
     "execution_count": 34,
     "metadata": {},
     "output_type": "execute_result"
    }
   ],
   "source": [
    "Fred_select = data_Fredericton['Year'].between(1955, 2003, inclusive=True)\n",
    "Har_select = data_Harvey['Year'].between(1955, 2003, inclusive=True)\n",
    "\n",
    "Fred_trim = data_Fredericton[Fred_select]\n",
    "Har_trim = data_Harvey[Har_select]\n",
    "\n",
    "rain_Fred.head()"
   ]
  },
  {
   "cell_type": "markdown",
   "metadata": {},
   "source": [
    "Define ecdf function"
   ]
  },
  {
   "cell_type": "code",
   "execution_count": 9,
   "metadata": {},
   "outputs": [],
   "source": [
    "def ecdf(data):\n",
    "    \"\"\"\n",
    "    Compute ECDF for a one-dimensional array of measurements\n",
    "    \"\"\"\n",
    "    \n",
    "    # Number of data points: n\n",
    "    n = len(data)\n",
    "    \n",
    "    # sorted values\n",
    "    x = np.sort(data)\n",
    "    \n",
    "    # evenly spaced datapoints with the maximum of 1\n",
    "    y = np.arange(1, n+1) / n\n",
    "    \n",
    "    return x,y"
   ]
  },
  {
   "cell_type": "code",
   "execution_count": 35,
   "metadata": {},
   "outputs": [
    {
     "data": {
      "image/png": "[encoded data removed]",
      "text/plain": [
       "<Figure size 432x288 with 1 Axes>"
      ]
     },
     "metadata": {
      "needs_background": "light"
     },
     "output_type": "display_data"
    }
   ],
   "source": [
    "# Compute ECDFs\n",
    "x_Fred, y_Fred = ecdf(Fred_trim['Total Rain (mm)'])\n",
    "x_Har, y_Har = ecdf(Har_trim['Total Rain (mm)'])\n",
    "\n",
    "# Plot all ECDFs on the same plot\n",
    "_ = plt.plot(x_Fred, y_Fred, marker = '.', linestyle = 'none')\n",
    "_ = plt.plot(x_Har, y_Har, marker = '.', linestyle = 'none')\n",
    "\n",
    "# Annotate the plot\n",
    "plt.legend(('Fredericton', 'Harvey'), loc='lower right')\n",
    "_ = plt.xlabel('Total Rain (mm)')\n",
    "_ = plt.ylabel('ECDF')\n",
    "\n",
    "# Display the plot\n",
    "plt.show()"
   ]
  }
 ],
 "metadata": {
  "kernelspec": {
   "display_name": "Python 3",
   "language": "python",
   "name": "python3"
  },
  "language_info": {
   "codemirror_mode": {
    "name": "ipython",
    "version": 3
   },
   "file_extension": ".py",
   "mimetype": "text/x-python",
   "name": "python",
   "nbconvert_exporter": "python",
   "pygments_lexer": "ipython3",
   "version": "3.7.3"
  }
 },
 "nbformat": 4,
 "nbformat_minor": 2
}
